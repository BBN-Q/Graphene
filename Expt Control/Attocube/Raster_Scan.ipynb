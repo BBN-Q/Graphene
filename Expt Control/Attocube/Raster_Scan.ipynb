{
 "cells": [
  {
   "cell_type": "code",
   "execution_count": null,
   "metadata": {},
   "outputs": [],
   "source": [
    "# to be run after Locate_Device; by caleb fried 04/2022\n",
    "\n",
    "# by caleb fried 04/2022\n",
    "\n",
    "#initilization\n",
    "import numpy as np\n",
    "import matplotlib.pyplot as plt\n",
    "%matplotlib inline\n",
    "from scipy.io import savemat\n",
    "import os\n",
    "import h5py as h5\n",
    "import time\n",
    "ax = {'x':0,'y':1,'z':2}\n",
    "#define a dict of axes to make things simpler"
   ]
  },
  {
   "cell_type": "code",
   "execution_count": null,
   "metadata": {},
   "outputs": [],
   "source": [
    "from auspex.instruments import SR830\n",
    "from pyanc350.v4 import Positioner"
   ]
  },
  {
   "cell_type": "code",
   "execution_count": null,
   "metadata": {},
   "outputs": [],
   "source": [
    "lockin = SR830()\n",
    "lockin.connect('GPIB0::20')   \n",
    "anc = Positioner()\n",
    "#instantiate positioner as anc\n",
    "print('-------------------------------------------------------------')\n",
    "print('capacitances:')\n",
    "for axis in sorted(ax.keys()):\n",
    "    print(axis,anc.measureCapacitance(ax[axis]))\n",
    "    anc.setFrequency(ax[axis],200)\n",
    "    anc.setAmplitude(ax[axis],25)"
   ]
  },
  {
   "cell_type": "code",
   "execution_count": null,
   "metadata": {},
   "outputs": [],
   "source": [
    "starty = anc.getPosition(ax['y'])\n",
    "startz = anc.getPosition(ax['z'])\n",
    "reflectance = np.zeros((50,50))\n",
    "for i in range(0,50)\n",
    "    for j in range(0,50)\n",
    "    anc.setAxisOutput(ax['y'], 1, 0)\n",
    "    anc.setTargetRange(ax['y'],1e-6)\n",
    "    anc.setTargetPosition(ax['y'], starty + (i-25)*1e-6) # assuming right is forward\n",
    "    anc.startAutoMove(ax['y'], 1, 0)\n",
    "    time.sleep(0.1)\n",
    "    moving = 1\n",
    "    target = 0\n",
    "    while target == 0:\n",
    "        connected, enabled, moving, target, eotFwd, eotBwd, error = anc.getAxisStatus(ax['y']) #find bitmask of status\n",
    "        if target == 1:\n",
    "            print('axis moved to y=',anc.getPosition(ax['y']))\n",
    "    anc.setAxisOutput(ax['z'], 1, 0)\n",
    "    anc.setTargetRange(ax['z'],1e-6)\n",
    "    anc.setTargetPosition(ax['z'], startz + (i-25)*1e-6) # assuming right is forward\n",
    "    anc.startAutoMove(ax['z'], 1, 0)\n",
    "    time.sleep(0.1)\n",
    "    moving = 1\n",
    "    target = 0\n",
    "    while target == 0:\n",
    "        connected, enabled, moving, target, eotFwd, eotBwd, error = anc.getAxisStatus(ax['y']) #find bitmask of status\n",
    "        if target == 1:\n",
    "            print('axis moved to z=',anc.getPosition(ax['z']))\n",
    "    time.sleep(1)\n",
    "    reflectance[i,j] = lockin.x\n",
    "print('scan finished')"
   ]
  },
  {
   "cell_type": "code",
   "execution_count": null,
   "metadata": {},
   "outputs": [],
   "source": [
    "y = np.arange(-50, 50, 1)\n",
    "z = np.arange(-50, 50, 1)\n",
    "\n",
    "# pcolormesh needs the pixel edges for x and y\n",
    "plot = plt.pcolormesh(y, z, reflectance, cmap='RdBu', shading='flat')"
   ]
  }
 ],
 "metadata": {
  "kernelspec": {
   "display_name": "Python 3",
   "language": "python",
   "name": "python3"
  },
  "language_info": {
   "codemirror_mode": {
    "name": "ipython",
    "version": 3
   },
   "file_extension": ".py",
   "mimetype": "text/x-python",
   "name": "python",
   "nbconvert_exporter": "python",
   "pygments_lexer": "ipython3",
   "version": "3.8.5"
  }
 },
 "nbformat": 4,
 "nbformat_minor": 4
}
