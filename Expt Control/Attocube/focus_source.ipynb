{
 "cells": [
  {
   "cell_type": "code",
   "execution_count": 1,
   "metadata": {},
   "outputs": [],
   "source": [
    "# First initialization\n",
    "\n",
    "import numpy as np\n",
    "import matplotlib.pyplot as plt\n",
    "%matplotlib inline\n",
    "from scipy.io import savemat\n",
    "import os\n",
    "import h5py as h5\n",
    "import time\n",
    "ax = {'x':1,'y':0,'z':2}\n",
    "#define a dict of axes to make things simpler"
   ]
  },
  {
   "cell_type": "code",
   "execution_count": 2,
   "metadata": {},
   "outputs": [
    {
     "name": "stderr",
     "output_type": "stream",
     "text": [
      "could not find anc350v2.dll\n",
      "could not find anc350v3.dll\n"
     ]
    }
   ],
   "source": [
    "from auspex.instruments import SR865\n",
    "from pyanc350.v4 import Positioner"
   ]
  },
  {
   "cell_type": "code",
   "execution_count": 7,
   "metadata": {},
   "outputs": [
    {
     "name": "stdout",
     "output_type": "stream",
     "text": [
      "auspex-WARNING: 2022-05-23 11:11:20,816 ----> User-provided IP {} is a valid IP address but does not appear to be in human-readable format.\n",
      "-------------------------------------------------------------\n",
      "capacitances:\n",
      "x 1.844093e-06\n",
      "y 1.856622e-06\n",
      "z 1.268291e-06\n"
     ]
    }
   ],
   "source": [
    "lockin = SR865()\n",
    "lockin.connect('GPIB0::9::INSTR')   \n",
    "#set time constant to 10 ms\n",
    "anc = Positioner()\n",
    "#instantiate positioner as anc\n",
    "print('-------------------------------------------------------------')\n",
    "print('capacitances:')\n",
    "for axis in sorted(ax.keys()):\n",
    "    print(axis,anc.measureCapacitance(ax[axis]))\n",
    "    anc.setFrequency(ax[axis],200)\n",
    "    anc.setAmplitude(ax[axis],15)"
   ]
  },
  {
   "cell_type": "code",
   "execution_count": 13,
   "metadata": {},
   "outputs": [
    {
     "name": "stdout",
     "output_type": "stream",
     "text": [
      "starting scan at 0.010159533\n",
      "signal increasing\n",
      "scan stopped at 0.008466174\n"
     ]
    }
   ],
   "source": [
    "freq = 200\n",
    "amp = 15\n",
    "#assume that we are starting with the lens too far from the sample rather than too close\n",
    "#we could also set this to be at x = 20mm to start to make sure sample\n",
    "focus = 0\n",
    "spot = 0\n",
    "fine = 0\n",
    "i = 0\n",
    "data = [0] * 100000\n",
    "anc.setAmplitude(ax['y'],amp)\n",
    "anc.setFrequency(ax['y'],freq)\n",
    "print('starting scan at',anc.getPosition(ax['y']))\n",
    "anc.startContinuousMove(ax['y'],1, 1)\n",
    "while focus == 0:\n",
    "    i = i+1;\n",
    "    time.sleep(0.01)\n",
    "    data[i] = lockin.x\n",
    "    if i > 10 and (data[i] - data[i-10])/data[i] > 0.05 and spot == 0:\n",
    "        spot = 1\n",
    "        print('signal increasing')\n",
    "    if spot == 1 and (data[i] - data[i-2])/data[i] < -0.05:\n",
    "        focus = 1\n",
    "        anc.startContinuousMove(ax['y'],0,1)\n",
    "        print('scan stopped at',anc.getPosition(ax['y']))"
   ]
  },
  {
   "cell_type": "code",
   "execution_count": 5,
   "metadata": {},
   "outputs": [
    {
     "ename": "NameError",
     "evalue": "name 'anc' is not defined",
     "output_type": "error",
     "traceback": [
      "\u001b[1;31m---------------------------------------------------------------------------\u001b[0m",
      "\u001b[1;31mNameError\u001b[0m                                 Traceback (most recent call last)",
      "\u001b[1;32m<ipython-input-5-59a6b6abee0d>\u001b[0m in \u001b[0;36m<module>\u001b[1;34m\u001b[0m\n\u001b[0;32m      1\u001b[0m \u001b[1;31m# fine scan needs better calibration, doesn't really work right now, but will come back\u001b[0m\u001b[1;33m\u001b[0m\u001b[1;33m\u001b[0m\u001b[1;33m\u001b[0m\u001b[0m\n\u001b[0;32m      2\u001b[0m \u001b[0mfine\u001b[0m \u001b[1;33m=\u001b[0m \u001b[1;36m0\u001b[0m\u001b[1;33m\u001b[0m\u001b[1;33m\u001b[0m\u001b[0m\n\u001b[1;32m----> 3\u001b[1;33m \u001b[0manc\u001b[0m\u001b[1;33m.\u001b[0m\u001b[0msetFrequency\u001b[0m\u001b[1;33m(\u001b[0m\u001b[0max\u001b[0m\u001b[1;33m[\u001b[0m\u001b[1;34m'x'\u001b[0m\u001b[1;33m]\u001b[0m\u001b[1;33m,\u001b[0m\u001b[1;36m50\u001b[0m\u001b[1;33m)\u001b[0m\u001b[1;33m\u001b[0m\u001b[1;33m\u001b[0m\u001b[0m\n\u001b[0m\u001b[0;32m      4\u001b[0m \u001b[0manc\u001b[0m\u001b[1;33m.\u001b[0m\u001b[0msetAmplitude\u001b[0m\u001b[1;33m(\u001b[0m\u001b[0max\u001b[0m\u001b[1;33m[\u001b[0m\u001b[1;34m'x'\u001b[0m\u001b[1;33m]\u001b[0m\u001b[1;33m,\u001b[0m\u001b[1;36m25\u001b[0m\u001b[1;33m)\u001b[0m\u001b[1;33m\u001b[0m\u001b[1;33m\u001b[0m\u001b[0m\n\u001b[0;32m      5\u001b[0m \u001b[1;32mwhile\u001b[0m \u001b[0mfine\u001b[0m \u001b[1;33m==\u001b[0m \u001b[1;36m0\u001b[0m\u001b[1;33m:\u001b[0m\u001b[1;33m\u001b[0m\u001b[1;33m\u001b[0m\u001b[0m\n",
      "\u001b[1;31mNameError\u001b[0m: name 'anc' is not defined"
     ]
    }
   ],
   "source": [
    "# fine scan needs better calibration, doesn't really work right now, but will come back\n",
    "fine = 0\n",
    "anc.setFrequency(ax['x'],50)\n",
    "anc.setAmplitude(ax['x'],25)\n",
    "while fine == 0:\n",
    "    i = i+1;\n",
    "    print('stepping to maximize focus...')\n",
    "    anc.startSingleStep(ax['x'],0)\n",
    "    time.sleep(0.1)\n",
    "    data[i] = lockin.x\n",
    "    if data[i] < data[i-1]:\n",
    "        fine = 1\n",
    "        print('focused.')"
   ]
  },
  {
   "cell_type": "code",
   "execution_count": 16,
   "metadata": {},
   "outputs": [],
   "source": [
    "#cleanup\n",
    "\n",
    "anc.disconnect()\n",
    "lockin.disconnect()"
   ]
  },
  {
   "cell_type": "code",
   "execution_count": 15,
   "metadata": {},
   "outputs": [
    {
     "ename": "KeyError",
     "evalue": "2",
     "output_type": "error",
     "traceback": [
      "\u001b[1;31m---------------------------------------------------------------------------\u001b[0m",
      "\u001b[1;31mKeyError\u001b[0m                                  Traceback (most recent call last)",
      "\u001b[1;32m<ipython-input-15-1a6996f97df3>\u001b[0m in \u001b[0;36m<module>\u001b[1;34m\u001b[0m\n\u001b[1;32m----> 1\u001b[1;33m \u001b[0manc\u001b[0m\u001b[1;33m.\u001b[0m\u001b[0msetAmplitude\u001b[0m\u001b[1;33m(\u001b[0m\u001b[0max\u001b[0m\u001b[1;33m[\u001b[0m\u001b[1;36m2\u001b[0m\u001b[1;33m]\u001b[0m\u001b[1;33m,\u001b[0m\u001b[1;36m29\u001b[0m\u001b[1;33m)\u001b[0m\u001b[1;33m\u001b[0m\u001b[1;33m\u001b[0m\u001b[0m\n\u001b[0m",
      "\u001b[1;31mKeyError\u001b[0m: 2"
     ]
    }
   ],
   "source": []
  }
 ],
 "metadata": {
  "kernelspec": {
   "display_name": "Python 3",
   "language": "python",
   "name": "python3"
  },
  "language_info": {
   "codemirror_mode": {
    "name": "ipython",
    "version": 3
   },
   "file_extension": ".py",
   "mimetype": "text/x-python",
   "name": "python",
   "nbconvert_exporter": "python",
   "pygments_lexer": "ipython3",
   "version": "3.7.4"
  }
 },
 "nbformat": 4,
 "nbformat_minor": 4
}
