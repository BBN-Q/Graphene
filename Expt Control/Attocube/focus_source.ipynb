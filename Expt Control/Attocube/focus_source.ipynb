{
 "cells": [
  {
   "cell_type": "code",
   "execution_count": 3,
   "metadata": {},
   "outputs": [],
   "source": [
    "# First initialization\n",
    "\n",
    "import numpy as np\n",
    "import matplotlib.pyplot as plt\n",
    "%matplotlib inline\n",
    "from scipy.io import savemat\n",
    "import os\n",
    "import h5py as h5\n",
    "import time\n",
    "ax = {'x':0,'y':1,'z':2}\n",
    "#define a dict of axes to make things simpler"
   ]
  },
  {
   "cell_type": "code",
   "execution_count": 4,
   "metadata": {},
   "outputs": [],
   "source": [
    "from auspex.instruments import SR830\n",
    "from pyanc350.v4 import Positioner"
   ]
  },
  {
   "cell_type": "code",
   "execution_count": 21,
   "metadata": {},
   "outputs": [
    {
     "name": "stdout",
     "output_type": "stream",
     "text": [
      "-------------------------------------------------------------\n",
      "capacitances:\n",
      "x 1.811838e-06\n",
      "y 1.815291e-06\n",
      "z 1.259364e-06\n"
     ]
    }
   ],
   "source": [
    "lockin = SR830()\n",
    "lockin.connect('GPIB0::20')   \n",
    "#set time constant to 10 ms\n",
    "anc = Positioner()\n",
    "#instantiate positioner as anc\n",
    "print('-------------------------------------------------------------')\n",
    "print('capacitances:')\n",
    "for axis in sorted(ax.keys()):\n",
    "    print(axis,anc.measureCapacitance(ax[axis]))\n",
    "    anc.setFrequency(ax[axis],200)\n",
    "    anc.setAmplitude(ax[axis],10)"
   ]
  },
  {
   "cell_type": "code",
   "execution_count": 24,
   "metadata": {},
   "outputs": [
    {
     "name": "stdout",
     "output_type": "stream",
     "text": [
      "starting scan at 0.018003746\n",
      "signal increasing\n",
      "scan stopped at 0.017627202\n"
     ]
    }
   ],
   "source": [
    "freq = 200\n",
    "amp = 15\n",
    "#assume that we are starting with the lens too far from the sample rather than too close\n",
    "#we could also set this to be at x = 20mm to start to make sure sample\n",
    "focus = 0\n",
    "spot = 0\n",
    "fine = 0\n",
    "i = 0\n",
    "data = [0] * 100000\n",
    "anc.setAmplitude(ax['x'],amp)\n",
    "anc.setFrequency(ax['x'],freq)\n",
    "print('starting scan at',anc.getPosition(ax['x']))\n",
    "anc.startContinuousMove(ax['x'],1, 1)\n",
    "while focus == 0:\n",
    "    i = i+1;\n",
    "    time.sleep(0.01)\n",
    "    data[i] = lockin.x\n",
    "    if i > 10 and data[i] - data[i-10] > 0.005 and spot == 0:\n",
    "        spot = 1\n",
    "        print('signal increasing')\n",
    "    if spot == 1 and data[i] - data[i-2] < -0.002:\n",
    "        focus = 1\n",
    "        anc.startContinuousMove(ax['x'],0,1)\n",
    "        print('scan stopped at',anc.getPosition(ax['x']))"
   ]
  },
  {
   "cell_type": "code",
   "execution_count": 18,
   "metadata": {},
   "outputs": [
    {
     "name": "stdout",
     "output_type": "stream",
     "text": [
      "stepping to maximize focus...\n",
      "stepping to maximize focus...\n",
      "focused.\n"
     ]
    }
   ],
   "source": [
    "# fine scan needs better calibration, doesn't really work right now, but will come back\n",
    "fine = 0\n",
    "anc.setFrequency(ax['x'],50)\n",
    "anc.setAmplitude(ax['x'],25)\n",
    "while fine == 0:\n",
    "    i = i+1;\n",
    "    print('stepping to maximize focus...')\n",
    "    anc.startSingleStep(ax['x'],0)\n",
    "    time.sleep(0.1)\n",
    "    data[i] = lockin.x\n",
    "    if data[i] < data[i-1]:\n",
    "        fine = 1\n",
    "        print('focused.')"
   ]
  },
  {
   "cell_type": "code",
   "execution_count": null,
   "metadata": {},
   "outputs": [],
   "source": []
  },
  {
   "cell_type": "code",
   "execution_count": null,
   "metadata": {},
   "outputs": [],
   "source": []
  }
 ],
 "metadata": {
  "kernelspec": {
   "display_name": "Python 3",
   "language": "python",
   "name": "python3"
  },
  "language_info": {
   "codemirror_mode": {
    "name": "ipython",
    "version": 3
   },
   "file_extension": ".py",
   "mimetype": "text/x-python",
   "name": "python",
   "nbconvert_exporter": "python",
   "pygments_lexer": "ipython3",
   "version": "3.7.4"
  }
 },
 "nbformat": 4,
 "nbformat_minor": 4
}
